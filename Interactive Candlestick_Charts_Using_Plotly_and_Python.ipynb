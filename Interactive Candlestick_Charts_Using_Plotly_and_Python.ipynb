{
 "cells": [
  {
   "cell_type": "code",
   "execution_count": 19,
   "metadata": {},
   "outputs": [],
   "source": [
    "import plotly.graph_objects as go\n",
    "import pandas as pd\n",
    "from plotly.offline import plot"
   ]
  },
  {
   "cell_type": "code",
   "execution_count": 13,
   "metadata": {},
   "outputs": [
    {
     "data": {
      "text/html": [
       "<div>\n",
       "<style scoped>\n",
       "    .dataframe tbody tr th:only-of-type {\n",
       "        vertical-align: middle;\n",
       "    }\n",
       "\n",
       "    .dataframe tbody tr th {\n",
       "        vertical-align: top;\n",
       "    }\n",
       "\n",
       "    .dataframe thead th {\n",
       "        text-align: right;\n",
       "    }\n",
       "</style>\n",
       "<table border=\"1\" class=\"dataframe\">\n",
       "  <thead>\n",
       "    <tr style=\"text-align: right;\">\n",
       "      <th></th>\n",
       "      <th>Date</th>\n",
       "      <th>Open</th>\n",
       "      <th>High</th>\n",
       "      <th>Low</th>\n",
       "      <th>Close</th>\n",
       "      <th>Adj Close</th>\n",
       "      <th>Volume</th>\n",
       "    </tr>\n",
       "  </thead>\n",
       "  <tbody>\n",
       "    <tr>\n",
       "      <td>0</td>\n",
       "      <td>2000-01-03</td>\n",
       "      <td>81.5000</td>\n",
       "      <td>89.5625</td>\n",
       "      <td>79.046875</td>\n",
       "      <td>89.3750</td>\n",
       "      <td>89.3750</td>\n",
       "      <td>16117600</td>\n",
       "    </tr>\n",
       "    <tr>\n",
       "      <td>1</td>\n",
       "      <td>2000-01-04</td>\n",
       "      <td>85.3750</td>\n",
       "      <td>91.5000</td>\n",
       "      <td>81.750000</td>\n",
       "      <td>81.9375</td>\n",
       "      <td>81.9375</td>\n",
       "      <td>17487400</td>\n",
       "    </tr>\n",
       "    <tr>\n",
       "      <td>2</td>\n",
       "      <td>2000-01-05</td>\n",
       "      <td>70.5000</td>\n",
       "      <td>75.1250</td>\n",
       "      <td>68.000000</td>\n",
       "      <td>69.7500</td>\n",
       "      <td>69.7500</td>\n",
       "      <td>38457400</td>\n",
       "    </tr>\n",
       "    <tr>\n",
       "      <td>3</td>\n",
       "      <td>2000-01-06</td>\n",
       "      <td>71.3125</td>\n",
       "      <td>72.6875</td>\n",
       "      <td>64.000000</td>\n",
       "      <td>65.5625</td>\n",
       "      <td>65.5625</td>\n",
       "      <td>18752000</td>\n",
       "    </tr>\n",
       "    <tr>\n",
       "      <td>4</td>\n",
       "      <td>2000-01-07</td>\n",
       "      <td>67.0000</td>\n",
       "      <td>70.5000</td>\n",
       "      <td>66.187500</td>\n",
       "      <td>69.5625</td>\n",
       "      <td>69.5625</td>\n",
       "      <td>10505400</td>\n",
       "    </tr>\n",
       "  </tbody>\n",
       "</table>\n",
       "</div>"
      ],
      "text/plain": [
       "         Date     Open     High        Low    Close  Adj Close    Volume\n",
       "0  2000-01-03  81.5000  89.5625  79.046875  89.3750    89.3750  16117600\n",
       "1  2000-01-04  85.3750  91.5000  81.750000  81.9375    81.9375  17487400\n",
       "2  2000-01-05  70.5000  75.1250  68.000000  69.7500    69.7500  38457400\n",
       "3  2000-01-06  71.3125  72.6875  64.000000  65.5625    65.5625  18752000\n",
       "4  2000-01-07  67.0000  70.5000  66.187500  69.5625    69.5625  10505400"
      ]
     },
     "execution_count": 13,
     "metadata": {},
     "output_type": "execute_result"
    }
   ],
   "source": [
    "df = pd.read_csv('AMZN.csv')\n",
    "df.head()"
   ]
  },
  {
   "cell_type": "code",
   "execution_count": 14,
   "metadata": {},
   "outputs": [],
   "source": [
    "df = df.set_index(pd.DatetimeIndex(df['Date'].values))"
   ]
  },
  {
   "cell_type": "code",
   "execution_count": 15,
   "metadata": {},
   "outputs": [
    {
     "data": {
      "text/html": [
       "<div>\n",
       "<style scoped>\n",
       "    .dataframe tbody tr th:only-of-type {\n",
       "        vertical-align: middle;\n",
       "    }\n",
       "\n",
       "    .dataframe tbody tr th {\n",
       "        vertical-align: top;\n",
       "    }\n",
       "\n",
       "    .dataframe thead th {\n",
       "        text-align: right;\n",
       "    }\n",
       "</style>\n",
       "<table border=\"1\" class=\"dataframe\">\n",
       "  <thead>\n",
       "    <tr style=\"text-align: right;\">\n",
       "      <th></th>\n",
       "      <th>Date</th>\n",
       "      <th>Open</th>\n",
       "      <th>High</th>\n",
       "      <th>Low</th>\n",
       "      <th>Close</th>\n",
       "      <th>Adj Close</th>\n",
       "      <th>Volume</th>\n",
       "    </tr>\n",
       "  </thead>\n",
       "  <tbody>\n",
       "    <tr>\n",
       "      <td>2000-01-03</td>\n",
       "      <td>2000-01-03</td>\n",
       "      <td>81.5000</td>\n",
       "      <td>89.5625</td>\n",
       "      <td>79.046875</td>\n",
       "      <td>89.3750</td>\n",
       "      <td>89.3750</td>\n",
       "      <td>16117600</td>\n",
       "    </tr>\n",
       "    <tr>\n",
       "      <td>2000-01-04</td>\n",
       "      <td>2000-01-04</td>\n",
       "      <td>85.3750</td>\n",
       "      <td>91.5000</td>\n",
       "      <td>81.750000</td>\n",
       "      <td>81.9375</td>\n",
       "      <td>81.9375</td>\n",
       "      <td>17487400</td>\n",
       "    </tr>\n",
       "    <tr>\n",
       "      <td>2000-01-05</td>\n",
       "      <td>2000-01-05</td>\n",
       "      <td>70.5000</td>\n",
       "      <td>75.1250</td>\n",
       "      <td>68.000000</td>\n",
       "      <td>69.7500</td>\n",
       "      <td>69.7500</td>\n",
       "      <td>38457400</td>\n",
       "    </tr>\n",
       "    <tr>\n",
       "      <td>2000-01-06</td>\n",
       "      <td>2000-01-06</td>\n",
       "      <td>71.3125</td>\n",
       "      <td>72.6875</td>\n",
       "      <td>64.000000</td>\n",
       "      <td>65.5625</td>\n",
       "      <td>65.5625</td>\n",
       "      <td>18752000</td>\n",
       "    </tr>\n",
       "    <tr>\n",
       "      <td>2000-01-07</td>\n",
       "      <td>2000-01-07</td>\n",
       "      <td>67.0000</td>\n",
       "      <td>70.5000</td>\n",
       "      <td>66.187500</td>\n",
       "      <td>69.5625</td>\n",
       "      <td>69.5625</td>\n",
       "      <td>10505400</td>\n",
       "    </tr>\n",
       "  </tbody>\n",
       "</table>\n",
       "</div>"
      ],
      "text/plain": [
       "                  Date     Open     High        Low    Close  Adj Close  \\\n",
       "2000-01-03  2000-01-03  81.5000  89.5625  79.046875  89.3750    89.3750   \n",
       "2000-01-04  2000-01-04  85.3750  91.5000  81.750000  81.9375    81.9375   \n",
       "2000-01-05  2000-01-05  70.5000  75.1250  68.000000  69.7500    69.7500   \n",
       "2000-01-06  2000-01-06  71.3125  72.6875  64.000000  65.5625    65.5625   \n",
       "2000-01-07  2000-01-07  67.0000  70.5000  66.187500  69.5625    69.5625   \n",
       "\n",
       "              Volume  \n",
       "2000-01-03  16117600  \n",
       "2000-01-04  17487400  \n",
       "2000-01-05  38457400  \n",
       "2000-01-06  18752000  \n",
       "2000-01-07  10505400  "
      ]
     },
     "execution_count": 15,
     "metadata": {},
     "output_type": "execute_result"
    }
   ],
   "source": [
    "df.head()"
   ]
  },
  {
   "cell_type": "code",
   "execution_count": 22,
   "metadata": {},
   "outputs": [
    {
     "data": {
      "text/plain": [
       "'temp-plot.html'"
      ]
     },
     "execution_count": 22,
     "metadata": {},
     "output_type": "execute_result"
    }
   ],
   "source": [
    "figure = go.Figure(\n",
    "    data = [\n",
    "        go.Candlestick(\n",
    "            x = df.index,\n",
    "            low = df['Low'],\n",
    "            high = df['High'],\n",
    "            open = df['Open'],\n",
    "            close = df['Close'],\n",
    "            increasing_line_color = 'green',\n",
    "            decreasing_line_color = 'red'\n",
    "        )\n",
    "    ]\n",
    ")\n",
    "\n",
    "plot(figure)"
   ]
  }
 ],
 "metadata": {
  "kernelspec": {
   "display_name": "Python 3",
   "language": "python",
   "name": "python3"
  },
  "language_info": {
   "codemirror_mode": {
    "name": "ipython",
    "version": 3
   },
   "file_extension": ".py",
   "mimetype": "text/x-python",
   "name": "python",
   "nbconvert_exporter": "python",
   "pygments_lexer": "ipython3",
   "version": "3.7.4"
  }
 },
 "nbformat": 4,
 "nbformat_minor": 4
}
